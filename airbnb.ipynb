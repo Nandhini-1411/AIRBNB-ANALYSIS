{
 "cells": [
  {
   "cell_type": "code",
   "execution_count": null,
   "metadata": {},
   "outputs": [],
   "source": [
    "#install needed packages \n",
    "! pip install pandas"
   ]
  },
  {
   "cell_type": "code",
   "execution_count": 170,
   "metadata": {},
   "outputs": [],
   "source": [
    "#import needede libraries and packages\n",
    "import os\n",
    "import json\n",
    "import pandas as pd"
   ]
  },
  {
   "cell_type": "code",
   "execution_count": 171,
   "metadata": {},
   "outputs": [],
   "source": [
    "#load data \n",
    "data_path  = r\"C:\\Users\\nandh\\Desktop\\AIRBNB\\DATA\\data.json\""
   ]
  },
  {
   "cell_type": "code",
   "execution_count": 172,
   "metadata": {},
   "outputs": [],
   "source": [
    "#read json file(data)\n",
    "org_data = pd.read_json(data_path)"
   ]
  },
  {
   "cell_type": "code",
   "execution_count": null,
   "metadata": {},
   "outputs": [],
   "source": [
    "#head check\n",
    "org_data.head(2)"
   ]
  },
  {
   "cell_type": "code",
   "execution_count": null,
   "metadata": {},
   "outputs": [],
   "source": [
    "# column check\n",
    "col = org_data.columns\n",
    "col"
   ]
  },
  {
   "cell_type": "code",
   "execution_count": null,
   "metadata": {},
   "outputs": [],
   "source": [
    "# shape check\n",
    "shape = org_data.shape\n",
    "shape"
   ]
  },
  {
   "cell_type": "code",
   "execution_count": null,
   "metadata": {},
   "outputs": [],
   "source": [
    "# drop duplicates\n",
    "org_data.drop_duplicates"
   ]
  },
  {
   "cell_type": "code",
   "execution_count": null,
   "metadata": {},
   "outputs": [],
   "source": [
    "# info check\n",
    "info = org_data.info()\n",
    "info"
   ]
  },
  {
   "cell_type": "code",
   "execution_count": null,
   "metadata": {},
   "outputs": [],
   "source": [
    "# check datatypes\n",
    "dtypes = org_data.dtypes\n",
    "dtypes"
   ]
  },
  {
   "cell_type": "code",
   "execution_count": null,
   "metadata": {},
   "outputs": [],
   "source": [
    "# null check\n",
    "null_count = org_data.isnull().sum()\n",
    "null_count\n",
    "\n",
    "# null_per = org_data.isnull().sum()/len(org_data)*100\n",
    "# null_per "
   ]
  },
  {
   "cell_type": "code",
   "execution_count": 18,
   "metadata": {},
   "outputs": [],
   "source": [
    "#NULL VALUES COLUMNS\n",
    "#first_review\n",
    "#last_review\n",
    "#bedrooms\n",
    "#beds\n",
    "#bathrooms\n",
    "#security_deposit\n",
    "#cleaning_fee\n",
    "#weekly_price\n",
    "#monthly_price\n",
    "#reviews_per_month"
   ]
  },
  {
   "cell_type": "code",
   "execution_count": 181,
   "metadata": {},
   "outputs": [],
   "source": [
    "# take  a copy of org data before fill null values\n",
    "org_data.to_json('dummy.json',index=False)"
   ]
  },
  {
   "cell_type": "code",
   "execution_count": 182,
   "metadata": {},
   "outputs": [],
   "source": [
    "# read this data (copy)\n",
    "dummy = pd.read_json(r\"C:\\Users\\nandh\\Desktop\\AIRBNB\\CODES\\dummy.json\")"
   ]
  },
  {
   "cell_type": "code",
   "execution_count": null,
   "metadata": {},
   "outputs": [],
   "source": [
    "# check some data value counts\n",
    "weekly_price_value = dummy[\"weekly_price\"].value_counts().sum()\n",
    "monthly_price_value = dummy[\"monthly_price\"].value_counts().sum()\n",
    "reviews_per_month_value = dummy[\"reviews_per_month\"].value_counts().sum()\n",
    "print(\"lenght_of_data = \",len(dummy),\"\\n\",\"weekly_price_value=\",weekly_price_value,\"\\n\",\"monthly_price_value=\",monthly_price_value,\"\\n\",\"reviews_per_month_value=\",reviews_per_month_value)"
   ]
  },
  {
   "cell_type": "code",
   "execution_count": null,
   "metadata": {},
   "outputs": [],
   "source": [
    "dummy[\"price\"].head()"
   ]
  },
  {
   "cell_type": "code",
   "execution_count": 23,
   "metadata": {},
   "outputs": [],
   "source": [
    "# fillna of weekly and monthly price\n",
    "dummy['weekly_price'] = dummy['weekly_price'].fillna(dummy['price'] * 7 * 0.9)# Assuming a 10% discount for weekly stays\n",
    "# Filling missing monthly prices based on nightly price with a 20% discount for monthly stays\n",
    "dummy['monthly_price'] = dummy['monthly_price'].fillna(dummy['price'] * 30 * 0.8)  # Assuming a 20% discount"
   ]
  },
  {
   "cell_type": "code",
   "execution_count": null,
   "metadata": {},
   "outputs": [],
   "source": [
    "# after filling nulls\n",
    "dummy[[\"weekly_price\",\"price\"]].head(15)\n",
    "dummy[[\"monthly_price\",\"price\"]].head(15)"
   ]
  },
  {
   "cell_type": "code",
   "execution_count": 185,
   "metadata": {},
   "outputs": [],
   "source": [
    "#remove cols that has more than 85 % NULL\n",
    "dummy.drop([\"reviews_per_month\"],axis=1,inplace=True)"
   ]
  },
  {
   "cell_type": "code",
   "execution_count": null,
   "metadata": {},
   "outputs": [],
   "source": [
    "#impute null value using mean | SECURITY_DEPOSIT - 37% null\n",
    "dummy[\"security_deposit\"]\n",
    "dummy[\"security_deposit\"].isnull().sum()#2084\n",
    "# cleaning_fee_value_before_fillna\n",
    "dummy[\"cleaning_fee\"].value_counts().sum()#3471\n",
    "#find mean\n",
    "overall_mean = dummy[\"security_deposit\"].mean()#509.430424\n",
    "overall_mean\n",
    "#group wise fillna\n",
    "group_mean = dummy.groupby('property_type')['security_deposit'].transform('mean')\n",
    "group_mean\n",
    "# Impute NaN values\n",
    "dummy['security_deposit'] = dummy['security_deposit'].fillna(group_mean)\n",
    "dummy['security_deposit'] = dummy['security_deposit'].fillna(overall_mean)\n",
    "dummy[\"security_deposit\"].value_counts().sum()#5555\n",
    "dummy['security_deposit'].isnull().sum()#0"
   ]
  },
  {
   "cell_type": "code",
   "execution_count": null,
   "metadata": {},
   "outputs": [],
   "source": [
    "#impute null value using mean | CLEANING_FEE - 27% null\n",
    "dummy[\"cleaning_fee\"]\n",
    "dummy[\"cleaning_fee\"].isnull().sum()#1531\n",
    "# # security_deposit_value_before_fillna\n",
    "dummy[\"cleaning_fee\"].value_counts().sum()#4024\n",
    "# #find mean\n",
    "overall_mean_1 = dummy[\"cleaning_fee\"].mean()#94.07480119284294\n",
    "overall_mean_1\n",
    "# #group wise fillna\n",
    "group_mean_1 = dummy.groupby('property_type')['cleaning_fee'].transform('mean')\n",
    "group_mean_1\n",
    "# # # Impute NaN values\n",
    "dummy['cleaning_fee'] = dummy['cleaning_fee'].fillna(group_mean)\n",
    "dummy['cleaning_fee'] = dummy['cleaning_fee'].fillna(overall_mean)\n",
    "dummy[\"cleaning_fee\"].value_counts().sum()#4024\n",
    "dummy[\"cleaning_fee\"].isnull().sum()#1531"
   ]
  },
  {
   "cell_type": "code",
   "execution_count": null,
   "metadata": {},
   "outputs": [],
   "source": [
    "#fillna using median | BATHROOM 0.18 % null\n",
    "#before fillna\n",
    "dummy[\"bathrooms\"].isnull().sum()#10\n",
    "#find median\n",
    "dummy[\"bathrooms\"].median()#1.0\n",
    "# # #fillna \n",
    "dummy[\"bathrooms\"]=dummy[\"bathrooms\"].fillna(dummy[\"bathrooms\"].median())\n",
    "# # #after fillna\n",
    "dummy[\"bathrooms\"].isnull().sum()#no null 0"
   ]
  },
  {
   "cell_type": "code",
   "execution_count": null,
   "metadata": {},
   "outputs": [],
   "source": [
    "#fillna using mode | BEDROOM 0.09 % null\n",
    "#before fillna\n",
    "dummy[\"bedrooms\"].isnull().sum()#5\n",
    "# #find mode\n",
    "dummy[\"bedrooms\"].mode()#1.0\n",
    "# #fillna \n",
    "dummy[\"bedrooms\"]=dummy[\"bedrooms\"].fillna(dummy[\"bedrooms\"].mode()[0])\n",
    "# # # # # #after fillna\n",
    "dummy[\"bedrooms\"].isnull().sum()#no null 0"
   ]
  },
  {
   "cell_type": "code",
   "execution_count": null,
   "metadata": {},
   "outputs": [],
   "source": [
    "#fillna using mode | BEDS 0.23 % null\n",
    "# before fillna\n",
    "dummy[\"beds\"].value_counts()#5545\n",
    "#find mean,median\n",
    "dummy[\"beds\"].mode()#1.0\n",
    "# # # #fillna \n",
    "dummy[\"beds\"]=dummy[\"beds\"].fillna(dummy[\"beds\"].mode()[0])\n",
    "# # # # #after fillna\n",
    "dummy[\"beds\"].isnull().sum()#no null 0"
   ]
  },
  {
   "cell_type": "code",
   "execution_count": null,
   "metadata": {},
   "outputs": [],
   "source": [
    "dummy[[\"last_review\",\"first_review\"]].isnull().sum()/100"
   ]
  },
  {
   "cell_type": "code",
   "execution_count": null,
   "metadata": {},
   "outputs": [],
   "source": [
    "dummy[[\"last_review\",\"first_review\",]].head(5)"
   ]
  },
  {
   "cell_type": "code",
   "execution_count": 193,
   "metadata": {},
   "outputs": [],
   "source": [
    "# DROP \"first_review\",\"last_review\" 86.12% null\n",
    "dummy.drop([\"first_review\",\"last_review\"],axis=1,inplace=True)"
   ]
  },
  {
   "cell_type": "code",
   "execution_count": null,
   "metadata": {},
   "outputs": [],
   "source": [
    "dummy[[\"last_scraped\",\"calendar_last_scraped\"]]"
   ]
  },
  {
   "cell_type": "code",
   "execution_count": 195,
   "metadata": {},
   "outputs": [],
   "source": [
    "dummy.drop([\"last_scraped\",\"calendar_last_scraped\"],axis=1,inplace=True)"
   ]
  },
  {
   "cell_type": "code",
   "execution_count": null,
   "metadata": {},
   "outputs": [],
   "source": [
    "dummy.shape"
   ]
  },
  {
   "cell_type": "code",
   "execution_count": 37,
   "metadata": {},
   "outputs": [],
   "source": [
    "# data1[\"_id\"]\n",
    "# data1[\"listing_url\"]\n",
    "# data1[\"name\"]\n",
    "# data1[\"summary\"]\n",
    "# data1[\"space\"]\n",
    "# data1[\"description\"]\n",
    "# data1[\"neighborhood_overview\"]\n",
    "# data1[\"notes\"]\n",
    "# data1[\"transit\"]\n",
    "# data1[\"access\"]\n",
    "# data1[\"interaction\"]\n",
    "# data1[\"house_rules\"]\n",
    "# data1[\"property_type\"]\n",
    "# data1[\"room_type\"]\n",
    "# data1[\"bed_type\"]\n",
    "# data1[\"minimum_nights\"]\n",
    "# data1[\"maximum_nights\"]\n",
    "# data1[\"cancellation_policy\"]\n",
    "# data1[\"accommodates\"]\n",
    "# data1[\"bedrooms\"]\n",
    "# data1[\"bathrooms\"]\n",
    "# data1[\"beds\"]\n",
    "# data1[\"number_of_reviews\"]\n",
    "# data1[\"amenities\"]\n",
    "# data1[\"price\"]\n",
    "# data1[\"security_deposit\"]\n",
    "# data1[\"cleaning_fee\"]\n",
    "# data1[\"extra_people\"]\n",
    "# data1[\"guests_included\"]\n",
    "# data1[\"images\"] #dict\n",
    "# data1[\"host\"] #dict\n",
    "# data1[\"address\"]#dict\n",
    "# data1[\"availability\"]#dict\n",
    "# data1[\"review_scores\"]#dict\n",
    "# data1[\"reviews\"]#dict\n",
    "# .value_counts().sort_values().sort_index()"
   ]
  },
  {
   "cell_type": "code",
   "execution_count": null,
   "metadata": {},
   "outputs": [],
   "source": [
    "dummy[\"images\"]\n",
    "#image is dict{}"
   ]
  },
  {
   "cell_type": "code",
   "execution_count": null,
   "metadata": {},
   "outputs": [],
   "source": [
    "dummy[\"images\"][0]"
   ]
  },
  {
   "cell_type": "code",
   "execution_count": null,
   "metadata": {},
   "outputs": [],
   "source": [
    "dummy['images'].apply(type).value_counts()"
   ]
  },
  {
   "cell_type": "code",
   "execution_count": 200,
   "metadata": {},
   "outputs": [],
   "source": [
    "# Clean the images column to remove entries with falsy values\n",
    "dummy['images'] = dummy['images'].apply(lambda img_dict: {k: v for k, v in img_dict.items() if v})\n",
    "\n",
    "# Extract and keep only the first non-falsy URL as a string\n",
    "dummy['images'] = dummy['images'].apply(lambda img_dict: next(iter(img_dict.values()), ''))"
   ]
  },
  {
   "cell_type": "code",
   "execution_count": null,
   "metadata": {},
   "outputs": [],
   "source": [
    "dummy[\"images\"]"
   ]
  },
  {
   "cell_type": "code",
   "execution_count": null,
   "metadata": {},
   "outputs": [],
   "source": [
    "dummy[\"host\"]"
   ]
  },
  {
   "cell_type": "code",
   "execution_count": null,
   "metadata": {},
   "outputs": [],
   "source": [
    "dummy[\"host\"][0]"
   ]
  },
  {
   "cell_type": "code",
   "execution_count": null,
   "metadata": {},
   "outputs": [],
   "source": [
    "len(dummy[\"host\"])"
   ]
  },
  {
   "cell_type": "code",
   "execution_count": null,
   "metadata": {},
   "outputs": [],
   "source": [
    "type(dummy[\"host\"])"
   ]
  },
  {
   "cell_type": "code",
   "execution_count": null,
   "metadata": {},
   "outputs": [],
   "source": [
    "keys_to_keep = {'host_id'}\n",
    "dummy['host'] = dummy['host'].apply(lambda a: {k: v for k, v in a.items() if k in keys_to_keep})\n",
    "dummy['host'] = dummy['host'].apply(lambda host_dict: next(iter(host_dict.values()), ''))\n",
    "dummy['host']"
   ]
  },
  {
   "cell_type": "markdown",
   "metadata": {},
   "source": [
    "### HOST DATA INTO SEPARATE DATAFRAME"
   ]
  },
  {
   "cell_type": "code",
   "execution_count": null,
   "metadata": {},
   "outputs": [],
   "source": [
    "host = pd.DataFrame(org_data[\"host\"].tolist())\n",
    "host"
   ]
  },
  {
   "cell_type": "code",
   "execution_count": null,
   "metadata": {},
   "outputs": [],
   "source": [
    "host.shape"
   ]
  },
  {
   "cell_type": "code",
   "execution_count": null,
   "metadata": {},
   "outputs": [],
   "source": [
    "host.info()"
   ]
  },
  {
   "cell_type": "code",
   "execution_count": null,
   "metadata": {},
   "outputs": [],
   "source": [
    "host.columns"
   ]
  },
  {
   "cell_type": "code",
   "execution_count": null,
   "metadata": {},
   "outputs": [],
   "source": [
    "host.dtypes"
   ]
  },
  {
   "cell_type": "code",
   "execution_count": null,
   "metadata": {},
   "outputs": [],
   "source": [
    "host.drop_duplicates"
   ]
  },
  {
   "cell_type": "code",
   "execution_count": null,
   "metadata": {},
   "outputs": [],
   "source": [
    "host.isnull().sum()/len(host)*100"
   ]
  },
  {
   "cell_type": "code",
   "execution_count": null,
   "metadata": {},
   "outputs": [],
   "source": [
    "host[[\"host_response_rate\",\"host_response_time\"]]"
   ]
  },
  {
   "cell_type": "code",
   "execution_count": null,
   "metadata": {},
   "outputs": [],
   "source": [
    "host_response_time_mode = host[\"host_response_time\"].mode()[0]\n",
    "host_response_time_mode\n",
    "host[\"host_response_time\"].fillna(host_response_time_mode, inplace=True)\n",
    "host[\"host_response_time\"].isnull().sum()"
   ]
  },
  {
   "cell_type": "code",
   "execution_count": null,
   "metadata": {},
   "outputs": [],
   "source": [
    "host_response_rate_mean = host[\"host_response_rate\"].mean()\n",
    "host_response_rate_mean\n",
    "host[\"host_response_rate\"].fillna(host_response_rate_mean, inplace=True)\n",
    "host[\"host_response_rate\"].isnull().sum()"
   ]
  },
  {
   "cell_type": "code",
   "execution_count": null,
   "metadata": {},
   "outputs": [],
   "source": [
    "host[[\"host_neighbourhood\",\"host_about\"]]"
   ]
  },
  {
   "cell_type": "code",
   "execution_count": null,
   "metadata": {},
   "outputs": [],
   "source": [
    "import numpy as np\n",
    "host.replace(['', ' '], np.nan, inplace=True)\n",
    "\n",
    "# Fill NaN values\n",
    "host[['host_neighbourhood', 'host_about']] = host[['host_neighbourhood', 'host_about']].fillna('No Information Provided')\n",
    "host[['host_neighbourhood', 'host_about']]"
   ]
  },
  {
   "cell_type": "code",
   "execution_count": null,
   "metadata": {},
   "outputs": [],
   "source": [
    "host.isnull().sum()/len(host)*100"
   ]
  },
  {
   "cell_type": "code",
   "execution_count": null,
   "metadata": {},
   "outputs": [],
   "source": [
    "host[\"host_verifications\"][0]"
   ]
  },
  {
   "cell_type": "code",
   "execution_count": null,
   "metadata": {},
   "outputs": [],
   "source": [
    "host[\"host_response_rate\"] = host[\"host_response_rate\"].round()\n",
    "host[\"host_response_rate\"].head(5)"
   ]
  },
  {
   "cell_type": "code",
   "execution_count": null,
   "metadata": {},
   "outputs": [],
   "source": [
    "dummy[\"amenities\"]"
   ]
  },
  {
   "cell_type": "code",
   "execution_count": null,
   "metadata": {},
   "outputs": [],
   "source": [
    "dummy[\"amenities\"][0]"
   ]
  },
  {
   "cell_type": "code",
   "execution_count": null,
   "metadata": {},
   "outputs": [],
   "source": [
    "#amenities list into a df then retrive them\n",
    "df1 = dummy[\"amenities\"].copy()\n",
    "df1 = pd.DataFrame(df1)\n",
    "for index, row in df1.iterrows():\n",
    "    print(\"Amenities:\")\n",
    "    for amenity in row['amenities']:\n",
    "        print(f\"- {amenity}\")\n",
    "df1.head()"
   ]
  },
  {
   "cell_type": "code",
   "execution_count": null,
   "metadata": {},
   "outputs": [],
   "source": [
    "import pandas as pd\n",
    "\n",
    "# Example Series\n",
    "amenities_list = pd.Series(dummy[\"amenities\"])\n",
    "\n",
    "# Flatten the lists into a single list\n",
    "all_amenities = [item for sublist in amenities_list for item in sublist]\n",
    "\n",
    "# Create a dictionary to count occurrences\n",
    "count_dict = {}\n",
    "for item in all_amenities:\n",
    "    if item in count_dict:\n",
    "        count_dict[item] += 1\n",
    "    else:\n",
    "        count_dict[item] = 1\n",
    "\n",
    "sorted_items = sorted(count_dict.items(), key=lambda x: x[1], reverse=True)\n",
    "top_five = sorted_items[:10]\n",
    "\n",
    "# Print the results\n",
    "print(\"Top five most common items:\")\n",
    "for item, count in top_five:\n",
    "    print(f\"{item}: {count}\")"
   ]
  },
  {
   "cell_type": "markdown",
   "metadata": {},
   "source": [
    "### ADDRESS DATA INTO SEPARATE DATAFRAME\n"
   ]
  },
  {
   "cell_type": "code",
   "execution_count": null,
   "metadata": {},
   "outputs": [],
   "source": [
    "dummy[\"address\"]"
   ]
  },
  {
   "cell_type": "code",
   "execution_count": null,
   "metadata": {},
   "outputs": [],
   "source": [
    "dummy[\"address\"][0]"
   ]
  },
  {
   "cell_type": "code",
   "execution_count": null,
   "metadata": {},
   "outputs": [],
   "source": [
    "address = pd.DataFrame(dummy[\"address\"].tolist())\n",
    "address"
   ]
  },
  {
   "cell_type": "code",
   "execution_count": null,
   "metadata": {},
   "outputs": [],
   "source": [
    "address = pd.json_normalize(dummy['address'])\n",
    "address = pd.concat([dummy[[\"_id\"]],address],axis=1)\n",
    "address"
   ]
  },
  {
   "cell_type": "code",
   "execution_count": null,
   "metadata": {},
   "outputs": [],
   "source": [
    "address.isnull().sum()"
   ]
  },
  {
   "cell_type": "code",
   "execution_count": null,
   "metadata": {},
   "outputs": [],
   "source": [
    "address.shape"
   ]
  },
  {
   "cell_type": "code",
   "execution_count": null,
   "metadata": {},
   "outputs": [],
   "source": [
    "address.info()"
   ]
  },
  {
   "cell_type": "code",
   "execution_count": null,
   "metadata": {},
   "outputs": [],
   "source": [
    "address.dtypes"
   ]
  },
  {
   "cell_type": "code",
   "execution_count": null,
   "metadata": {},
   "outputs": [],
   "source": [
    "address[\"street\"].value_counts()"
   ]
  },
  {
   "cell_type": "code",
   "execution_count": null,
   "metadata": {},
   "outputs": [],
   "source": [
    "address[\"suburb\"].value_counts()"
   ]
  },
  {
   "cell_type": "code",
   "execution_count": null,
   "metadata": {},
   "outputs": [],
   "source": [
    "address[\"government_area\"].value_counts()"
   ]
  },
  {
   "cell_type": "code",
   "execution_count": null,
   "metadata": {},
   "outputs": [],
   "source": [
    "address[\"market\"].value_counts()"
   ]
  },
  {
   "cell_type": "code",
   "execution_count": null,
   "metadata": {},
   "outputs": [],
   "source": [
    "address[\"country\"].value_counts()"
   ]
  },
  {
   "cell_type": "code",
   "execution_count": null,
   "metadata": {},
   "outputs": [],
   "source": [
    "address[\"country_code\"].value_counts()"
   ]
  },
  {
   "cell_type": "code",
   "execution_count": null,
   "metadata": {},
   "outputs": [],
   "source": [
    "address[\"location.type\"]"
   ]
  },
  {
   "cell_type": "code",
   "execution_count": null,
   "metadata": {},
   "outputs": [],
   "source": [
    "address[\"location.coordinates\"]"
   ]
  },
  {
   "cell_type": "code",
   "execution_count": null,
   "metadata": {},
   "outputs": [],
   "source": [
    "# Create new columns for Longitude and Latitude\n",
    "address['Longitude'] = address['location.coordinates'].apply(lambda x: x[0])\n",
    "address['Latitude'] = address['location.coordinates'].apply(lambda x: x[1])\n",
    "\n",
    "# Optionally, drop the original coordinates column\n",
    "address = address.drop(columns=['location.coordinates'])\n",
    "\n",
    "# Display the updated DataFrame\n",
    "print(\"\\nUpdated DataFrame with Longitude and Latitude:\")\n",
    "print(address)"
   ]
  },
  {
   "cell_type": "code",
   "execution_count": null,
   "metadata": {},
   "outputs": [],
   "source": [
    "address.head()"
   ]
  },
  {
   "cell_type": "code",
   "execution_count": 244,
   "metadata": {},
   "outputs": [],
   "source": [
    "dummy.drop([\"address\"],axis=1,inplace=True)"
   ]
  },
  {
   "cell_type": "code",
   "execution_count": null,
   "metadata": {},
   "outputs": [],
   "source": [
    "address"
   ]
  },
  {
   "cell_type": "markdown",
   "metadata": {},
   "source": [
    "### AVAILABILITY DATA INTO SEPARATE DATAFRAME\n"
   ]
  },
  {
   "cell_type": "code",
   "execution_count": null,
   "metadata": {},
   "outputs": [],
   "source": [
    "dummy[\"availability\"]"
   ]
  },
  {
   "cell_type": "code",
   "execution_count": null,
   "metadata": {},
   "outputs": [],
   "source": [
    "dummy[\"availability\"][0]"
   ]
  },
  {
   "cell_type": "code",
   "execution_count": null,
   "metadata": {},
   "outputs": [],
   "source": [
    "availability = pd.json_normalize(dummy['availability'])\n",
    "availability = pd.concat([dummy[['_id']], availability], axis=1)\n",
    "availability"
   ]
  },
  {
   "cell_type": "code",
   "execution_count": null,
   "metadata": {},
   "outputs": [],
   "source": [
    "availability.shape"
   ]
  },
  {
   "cell_type": "code",
   "execution_count": null,
   "metadata": {},
   "outputs": [],
   "source": [
    "availability.info()"
   ]
  },
  {
   "cell_type": "code",
   "execution_count": null,
   "metadata": {},
   "outputs": [],
   "source": [
    "availability.dtypes"
   ]
  },
  {
   "cell_type": "code",
   "execution_count": null,
   "metadata": {},
   "outputs": [],
   "source": [
    "availability.isnull().sum()"
   ]
  },
  {
   "cell_type": "code",
   "execution_count": 253,
   "metadata": {},
   "outputs": [],
   "source": [
    "dummy.drop([\"availability\"],axis=1,inplace=True)"
   ]
  },
  {
   "cell_type": "markdown",
   "metadata": {},
   "source": [
    "### REVIEW_SCORES DATA INTO SEPARATE DATAFRAME"
   ]
  },
  {
   "cell_type": "code",
   "execution_count": null,
   "metadata": {},
   "outputs": [],
   "source": [
    "dummy[\"review_scores\"]"
   ]
  },
  {
   "cell_type": "code",
   "execution_count": null,
   "metadata": {},
   "outputs": [],
   "source": [
    "dummy[\"review_scores\"][0]"
   ]
  },
  {
   "cell_type": "code",
   "execution_count": null,
   "metadata": {},
   "outputs": [],
   "source": [
    "review_scores = pd.json_normalize(dummy['review_scores'])\n",
    "review_scores = pd.concat([dummy[[\"_id\"]],review_scores],axis=1)\n",
    "review_scores"
   ]
  },
  {
   "cell_type": "code",
   "execution_count": null,
   "metadata": {},
   "outputs": [],
   "source": [
    "review_scores.shape"
   ]
  },
  {
   "cell_type": "code",
   "execution_count": null,
   "metadata": {},
   "outputs": [],
   "source": [
    "review_scores.info()"
   ]
  },
  {
   "cell_type": "code",
   "execution_count": null,
   "metadata": {},
   "outputs": [],
   "source": [
    "review_scores.isnull().sum()\n",
    "review_scores.isnull().sum()/len(review_scores)*100"
   ]
  },
  {
   "cell_type": "code",
   "execution_count": 260,
   "metadata": {},
   "outputs": [],
   "source": [
    "review_scores.fillna(0, inplace=True)"
   ]
  },
  {
   "cell_type": "code",
   "execution_count": null,
   "metadata": {},
   "outputs": [],
   "source": [
    "import numpy as np\n",
    "review_scores.astype(np.int64)"
   ]
  },
  {
   "cell_type": "code",
   "execution_count": null,
   "metadata": {},
   "outputs": [],
   "source": [
    "review_scores.isnull().sum()"
   ]
  },
  {
   "cell_type": "markdown",
   "metadata": {},
   "source": [
    "## REVIEWS DATAFRAME"
   ]
  },
  {
   "cell_type": "code",
   "execution_count": null,
   "metadata": {},
   "outputs": [],
   "source": [
    "dummy[\"reviews\"]"
   ]
  },
  {
   "cell_type": "code",
   "execution_count": null,
   "metadata": {},
   "outputs": [],
   "source": [
    "reviews_data = []\n",
    "\n",
    "# Loop through each row of the column\n",
    "for sublist in dummy['reviews']:\n",
    "    # Extend the flattened_data list with each dictionary in the sublist\n",
    "    reviews_data.extend(sublist)\n",
    "\n",
    "# Convert the flattened list of dictionaries into a DataFrame\n",
    "reviews = pd.DataFrame(reviews_data)\n",
    "reviews"
   ]
  },
  {
   "cell_type": "code",
   "execution_count": null,
   "metadata": {},
   "outputs": [],
   "source": [
    "reviews.shape"
   ]
  },
  {
   "cell_type": "code",
   "execution_count": null,
   "metadata": {},
   "outputs": [],
   "source": [
    "reviews.columns"
   ]
  },
  {
   "cell_type": "code",
   "execution_count": null,
   "metadata": {},
   "outputs": [],
   "source": [
    "reviews.dtypes"
   ]
  },
  {
   "cell_type": "code",
   "execution_count": null,
   "metadata": {},
   "outputs": [],
   "source": [
    "pd.to_datetime(reviews['date'])"
   ]
  },
  {
   "cell_type": "code",
   "execution_count": null,
   "metadata": {},
   "outputs": [],
   "source": [
    "reviews.info()"
   ]
  },
  {
   "cell_type": "code",
   "execution_count": 270,
   "metadata": {},
   "outputs": [],
   "source": [
    "dummy.drop([\"reviews\",\"review_scores\"],axis=1,inplace=True)"
   ]
  },
  {
   "cell_type": "code",
   "execution_count": null,
   "metadata": {},
   "outputs": [],
   "source": [
    "dummy[\"space\"][15]"
   ]
  },
  {
   "cell_type": "code",
   "execution_count": null,
   "metadata": {},
   "outputs": [],
   "source": [
    "dummy[\"summary\"][15]"
   ]
  },
  {
   "cell_type": "code",
   "execution_count": null,
   "metadata": {},
   "outputs": [],
   "source": [
    "dummy[\"notes\"][15]"
   ]
  },
  {
   "cell_type": "code",
   "execution_count": null,
   "metadata": {},
   "outputs": [],
   "source": [
    "dummy[\"description\"][15]"
   ]
  },
  {
   "cell_type": "code",
   "execution_count": null,
   "metadata": {},
   "outputs": [],
   "source": [
    "dummy[[\"notes\",\"space\",\"summary\",\"description\"]].head(10)"
   ]
  },
  {
   "cell_type": "code",
   "execution_count": null,
   "metadata": {},
   "outputs": [],
   "source": [
    "dummy[[\"neighborhood_overview\",\"transit\"]].head(5)"
   ]
  },
  {
   "cell_type": "code",
   "execution_count": null,
   "metadata": {},
   "outputs": [],
   "source": [
    "dummy.columns"
   ]
  },
  {
   "cell_type": "code",
   "execution_count": 278,
   "metadata": {},
   "outputs": [],
   "source": [
    "dummy[[\"access\",\"interaction\",\"neighborhood_overview\",\"house_rules\",\"notes\",\"summary\",\"space\",\"description\",\"transit\"]]=dummy[[\"access\",\"interaction\",\"neighborhood_overview\",\"house_rules\",\"notes\",\"summary\",\"space\",\"description\",\"transit\"]].fillna(\"No Information Provided\")"
   ]
  },
  {
   "cell_type": "code",
   "execution_count": null,
   "metadata": {},
   "outputs": [],
   "source": [
    "dummy[[\"access\",\"interaction\",\"house_rules\",\"transit\",\"neighborhood_overview\",\"notes\",\"space\",\"summary\",\"description\"]].head(5)"
   ]
  },
  {
   "cell_type": "code",
   "execution_count": null,
   "metadata": {},
   "outputs": [],
   "source": [
    "# final-cols\n",
    "# id 1\n",
    "# url 2\n",
    "# name 3\n",
    "# summary 4\n",
    "# space 5\n",
    "# description 5\n",
    "# neighborhood_overview 6\n",
    "# notes 7\n",
    "# transit 8\n",
    "# access 9\n",
    "# interaction 10\n",
    "# house_rules 11\n",
    "#  property_type 12\n",
    "#  room_type 13\n",
    "#  bed_type 14\n",
    "#  maximum_nights 15\n",
    "#  minimum_nights 16\n",
    "# cancellation_policy 17\n",
    "# accomodates 18\n",
    "#  bedrooms 19\n",
    "#  beds 20\n",
    "# number of review 21\n",
    "# bathrooms 22\n",
    "#  price 23\n",
    "# security_deposit 24\n",
    "# cleaning_fee 25\n",
    "# extra_people 26\n",
    "# guests_included 27\n",
    "# images 28\n",
    "# host 29\n",
    "\n",
    "\n",
    "# review_scores (df)\n",
    "# reviews (df)\n",
    "# host (df)\n",
    "# address (df)\n",
    "# availability (df)"
   ]
  },
  {
   "cell_type": "code",
   "execution_count": null,
   "metadata": {},
   "outputs": [],
   "source": [
    "dummy.columns"
   ]
  },
  {
   "cell_type": "code",
   "execution_count": null,
   "metadata": {},
   "outputs": [],
   "source": [
    "dummy.shape"
   ]
  },
  {
   "cell_type": "code",
   "execution_count": null,
   "metadata": {},
   "outputs": [],
   "source": [
    "dummy.info()"
   ]
  },
  {
   "cell_type": "markdown",
   "metadata": {},
   "source": [
    "### THE DATAFRAME"
   ]
  },
  {
   "cell_type": "code",
   "execution_count": 284,
   "metadata": {},
   "outputs": [],
   "source": [
    "final_data = pd.read_json(r\"C:\\Users\\nandh\\Desktop\\AIRBNB\\CODES\\dummy.json\")"
   ]
  },
  {
   "cell_type": "code",
   "execution_count": null,
   "metadata": {},
   "outputs": [],
   "source": [
    "final_data.head()"
   ]
  },
  {
   "cell_type": "code",
   "execution_count": null,
   "metadata": {},
   "outputs": [],
   "source": [
    "len(final_data)"
   ]
  },
  {
   "cell_type": "code",
   "execution_count": null,
   "metadata": {},
   "outputs": [],
   "source": [
    "final_data.shape"
   ]
  },
  {
   "cell_type": "code",
   "execution_count": null,
   "metadata": {},
   "outputs": [],
   "source": [
    "final_data.info()"
   ]
  },
  {
   "cell_type": "code",
   "execution_count": null,
   "metadata": {},
   "outputs": [],
   "source": [
    "final_data.isnull().sum()"
   ]
  },
  {
   "cell_type": "code",
   "execution_count": null,
   "metadata": {},
   "outputs": [],
   "source": [
    "print(final_data[['beds','bedrooms','bathrooms']].value_counts().to_string())  #---> bathrooms has .5 like value "
   ]
  },
  {
   "cell_type": "code",
   "execution_count": null,
   "metadata": {},
   "outputs": [],
   "source": [
    "final_data.select_dtypes(include=[\"int64\"])\n",
    "final_data.select_dtypes(include=[\"float64\"])\n",
    "final_data.select_dtypes(include=[\"object\"])"
   ]
  },
  {
   "cell_type": "code",
   "execution_count": 292,
   "metadata": {},
   "outputs": [],
   "source": [
    "final_data[\"_id\"] = final_data[\"_id\"].astype(object)"
   ]
  },
  {
   "cell_type": "code",
   "execution_count": null,
   "metadata": {},
   "outputs": [],
   "source": [
    "final_data['beds'] = final_data['beds'].astype(int)\n",
    "final_data['bedrooms'] = final_data['bedrooms'].astype(int)"
   ]
  },
  {
   "cell_type": "code",
   "execution_count": null,
   "metadata": {},
   "outputs": [],
   "source": [
    "final_data[[\"cleaning_fee\",\"security_deposit\"]] = final_data[[\"cleaning_fee\",\"security_deposit\"]].round().astype(int)"
   ]
  },
  {
   "cell_type": "code",
   "execution_count": null,
   "metadata": {},
   "outputs": [],
   "source": [
    "final_data.select_dtypes(include=[\"int64\"])\n",
    "final_data.select_dtypes(include=[\"float64\"])\n",
    "final_data.select_dtypes(include=[\"object\"])"
   ]
  },
  {
   "cell_type": "markdown",
   "metadata": {},
   "source": [
    "# final columns"
   ]
  },
  {
   "cell_type": "code",
   "execution_count": null,
   "metadata": {},
   "outputs": [],
   "source": [
    "final_data.head(2)"
   ]
  },
  {
   "cell_type": "code",
   "execution_count": null,
   "metadata": {},
   "outputs": [],
   "source": [
    "address.head(2)"
   ]
  },
  {
   "cell_type": "code",
   "execution_count": null,
   "metadata": {},
   "outputs": [],
   "source": [
    "host.head(2)"
   ]
  },
  {
   "cell_type": "code",
   "execution_count": null,
   "metadata": {},
   "outputs": [],
   "source": [
    "reviews.head(2)"
   ]
  },
  {
   "cell_type": "code",
   "execution_count": null,
   "metadata": {},
   "outputs": [],
   "source": [
    "review_scores.head(2)"
   ]
  },
  {
   "cell_type": "code",
   "execution_count": null,
   "metadata": {},
   "outputs": [],
   "source": [
    "availability.head(2)"
   ]
  },
  {
   "cell_type": "code",
   "execution_count": null,
   "metadata": {},
   "outputs": [],
   "source": [
    "final_data.columns"
   ]
  },
  {
   "cell_type": "code",
   "execution_count": null,
   "metadata": {},
   "outputs": [],
   "source": [
    "host.columns"
   ]
  },
  {
   "cell_type": "code",
   "execution_count": null,
   "metadata": {},
   "outputs": [],
   "source": [
    "review_scores.columns"
   ]
  },
  {
   "cell_type": "code",
   "execution_count": null,
   "metadata": {},
   "outputs": [],
   "source": [
    "reviews.columns"
   ]
  },
  {
   "cell_type": "code",
   "execution_count": null,
   "metadata": {},
   "outputs": [],
   "source": [
    "address.columns"
   ]
  },
  {
   "cell_type": "code",
   "execution_count": null,
   "metadata": {},
   "outputs": [],
   "source": [
    "availability.columns"
   ]
  },
  {
   "cell_type": "code",
   "execution_count": null,
   "metadata": {},
   "outputs": [],
   "source": [
    "# ! pip install openpyxl xlrd"
   ]
  },
  {
   "cell_type": "code",
   "execution_count": 303,
   "metadata": {},
   "outputs": [],
   "source": [
    "# final_data.to_json('final_data.json',orient=\"records\")\n",
    "address.to_json('address.json', orient='records')\n",
    "host.to_json('host.json', orient='records')\n",
    "availability.to_json('availability.json', orient='records')\n",
    "reviews.to_json('reviews.json', orient='records')\n",
    "review_scores.to_json('review_scores.json', orient='records')"
   ]
  },
  {
   "cell_type": "code",
   "execution_count": null,
   "metadata": {},
   "outputs": [],
   "source": [
    "final_data.isnull().sum()"
   ]
  },
  {
   "cell_type": "code",
   "execution_count": null,
   "metadata": {},
   "outputs": [],
   "source": [
    "final_data.columns"
   ]
  },
  {
   "cell_type": "code",
   "execution_count": null,
   "metadata": {},
   "outputs": [],
   "source": [
    "review_scores.isnull().sum()"
   ]
  },
  {
   "cell_type": "code",
   "execution_count": null,
   "metadata": {},
   "outputs": [],
   "source": [
    "len(review_scores)"
   ]
  },
  {
   "cell_type": "code",
   "execution_count": null,
   "metadata": {},
   "outputs": [],
   "source": [
    "final_data = pd.concat([final_data,review_scores],axis=1)\n",
    "final_data.columns"
   ]
  },
  {
   "cell_type": "code",
   "execution_count": null,
   "metadata": {},
   "outputs": [],
   "source": [
    "final_data = pd.concat([final_data,availability],axis=1)\n",
    "final_data.columns"
   ]
  },
  {
   "cell_type": "code",
   "execution_count": null,
   "metadata": {},
   "outputs": [],
   "source": [
    "final_data = pd.concat([final_data,address],axis=1)\n",
    "final_data.columns"
   ]
  },
  {
   "cell_type": "code",
   "execution_count": null,
   "metadata": {},
   "outputs": [],
   "source": [
    "final_data.isnull().sum()"
   ]
  },
  {
   "cell_type": "code",
   "execution_count": null,
   "metadata": {},
   "outputs": [],
   "source": [
    "final_data = final_data.groupby(final_data.columns, axis=1).first()\n",
    "final_data.columns"
   ]
  },
  {
   "cell_type": "code",
   "execution_count": null,
   "metadata": {},
   "outputs": [],
   "source": [
    "final_data.head(5)"
   ]
  },
  {
   "cell_type": "code",
   "execution_count": null,
   "metadata": {},
   "outputs": [],
   "source": [
    "reviews.head()"
   ]
  },
  {
   "cell_type": "code",
   "execution_count": null,
   "metadata": {},
   "outputs": [],
   "source": [
    "final_data.info()"
   ]
  },
  {
   "cell_type": "code",
   "execution_count": 316,
   "metadata": {},
   "outputs": [],
   "source": [
    "final_data.to_json('final_data.json',orient=\"records\")"
   ]
  },
  {
   "cell_type": "code",
   "execution_count": null,
   "metadata": {},
   "outputs": [],
   "source": [
    "final_data.columns"
   ]
  }
 ],
 "metadata": {
  "kernelspec": {
   "display_name": ".venv",
   "language": "python",
   "name": "python3"
  },
  "language_info": {
   "codemirror_mode": {
    "name": "ipython",
    "version": 3
   },
   "file_extension": ".py",
   "mimetype": "text/x-python",
   "name": "python",
   "nbconvert_exporter": "python",
   "pygments_lexer": "ipython3",
   "version": "3.12.2"
  }
 },
 "nbformat": 4,
 "nbformat_minor": 2
}
